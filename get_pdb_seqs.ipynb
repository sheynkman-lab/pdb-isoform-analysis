{
 "cells": [
  {
   "cell_type": "code",
   "execution_count": 1,
   "metadata": {},
   "outputs": [],
   "source": [
    "import os\n",
    "import sys\n",
    "import psycopg2\n",
    "from sqlalchemy import create_engine\n",
    "from io import StringIO\n",
    "import pandas as pd\n",
    "import csv\n",
    "up_one =  (os.path.abspath(os.path.join(os.getcwd(), os.pardir)))\n",
    "sys.path.append(up_one)\n",
    "up_two =  (os.path.abspath(os.path.join(os.getcwd(), os.pardir, os.pardir)))\n",
    "sys.path.append(up_two)\n",
    "from minorlab import metapdb\n",
    "import subprocess\n",
    "\n",
    "import pprint\n",
    "pp = pprint.PrettyPrinter(indent=4)"
   ]
  },
  {
   "cell_type": "code",
   "execution_count": 26,
   "metadata": {},
   "outputs": [],
   "source": [
    "#Project specific functions\n",
    "# Make blast dbs\n",
    "def makeblastdb (fasta):\n",
    "    #  Note : This was problematic on OneDrive \n",
    "    root = fasta.replace('.fa','')\n",
    "    cmd = f\"\"\"{makedb} -in {fasta} -out {root} -dbtype prot -title \"Blastdb for {fasta}\" -parse_seqids \"\"\"\n",
    "    print (cmd)\n",
    "    db=subprocess.getoutput(cmd)\n",
    "    if db[0:5]==\"USAGE\":\n",
    "        print (f\"Something went wrong with creation of the database\\n{db}\")"
   ]
  },
  {
   "cell_type": "code",
   "execution_count": 3,
   "metadata": {},
   "outputs": [
    {
     "name": "stdout",
     "output_type": "stream",
     "text": [
      "     Connecting to metapdb...\n",
      "  Connected to metapdb.\n",
      "Connections done.\n"
     ]
    }
   ],
   "source": [
    "conn={}  # A dict of connections\n",
    "cursor={}    # A dict of cursors\n",
    "engine={}\n",
    "def connect_db(db):\n",
    "    print (f\"     Connecting to {db['name']}...\")\n",
    "    try:\n",
    "        #print (f\"\"\"    con_string is { db['con_string'] }\"\"\")\n",
    "        exec (f\"\"\"conn[ \"{db[\"name\"]}\" ] = psycopg2.connect(\"{db[\"con_string\"]}\")\"\"\" )\n",
    "        exec (f\"\"\"cursor[ \"{db['name']}\" ] = conn[ \"{db['name']}\" ].cursor()\"\"\") # Pandas read_sql_query does not need a cursor\n",
    "        exec (f\"\"\"engine[\"{db['name']}\"] = create_engine( \"{db['engine_string']}\") \"\"\")\n",
    "        print(f\"  Connected to { db['name'] }.\")\n",
    "    except:\n",
    "        print ('Check VPN. Not Connected.   <<<<===========#################')\n",
    "connect_db(metapdb)\n",
    "#connect_db(manuscripts)\n",
    "print ('Connections done.')\n",
    "# Run this cell to use single database functions\n",
    "con = conn['metapdb']\n",
    "cur = cursor['metapdb']\n",
    "eng = engine['metapdb']\n",
    "\n",
    "def df_to_empty_table(df, table,db='metapdb'):\n",
    "    #create table using SLQalchemy \n",
    "    parts = table.split('.')\n",
    "    if len(parts) ==1:\n",
    "        schema='public'\n",
    "        table_name=table\n",
    "    else:\n",
    "        schema, table_name = parts\n",
    "    empty_df=  df.loc[df.iloc[:,0]=='Nonsense']\n",
    "    try:\n",
    "        empty_df.to_sql( schema=schema,name=table_name, con=engine[db], if_exists = 'replace', index=False)\n",
    "        print (f'  Empty table {table} created for DataFrame with columns {empty_df.columns.to_list()}')\n",
    "    except Exception as error:\n",
    "        print (f'There was a problem with the SQLalchemy part. No table created.\\n{error}')\n",
    "        return 0\n",
    "    return 1\n",
    "    \n",
    "def df_to_table(df, table,db='metapdb'):\n",
    "    ''' Loads a DataFrame into a table. \n",
    "        If table is in the form schema.table, the schema will be used, otherwise schema=\"public\".\n",
    "        3rd ARG is databse; metapdb is default.'''\n",
    "    if df_to_empty_table(df,table,db) == 0:\n",
    "        return 0\n",
    "    # save dataframe to an in memory buffer\n",
    "    buffer = StringIO()\n",
    "    \n",
    "    df.to_csv(buffer, index=False, header=False,sep=';',quoting=csv.QUOTE_NONE,escapechar='\\\\')\n",
    "    buffer.seek(0)\n",
    "    \n",
    "    # Try to copy from the buffer to the table\n",
    "    try:\n",
    "        print (f\"\"\"  Starting copy_from(buffer)\"\"\" )\n",
    "        cursor[db].copy_from(buffer, table, sep=\";\",)\n",
    "        conn[db].commit()\n",
    "    except (Exception, psycopg2.DatabaseError) as error:\n",
    "        print(\"Error: %s\" % error)\n",
    "        conn[db].rollback()\n",
    "        return 1\n",
    "    print(f\"df_to_table done for {table}.\") "
   ]
  },
  {
   "cell_type": "markdown",
   "metadata": {},
   "source": [
    "## Slight reformat of gencode information"
   ]
  },
  {
   "cell_type": "code",
   "execution_count": 79,
   "metadata": {},
   "outputs": [],
   "source": [
    "with open ('Data/gencode.v43.pc_translations.fa', 'r') as f_in, open ('Data/gencode_v43_translations_mod.fa', 'w') as f_out:\n",
    "    for line in f_in.readlines():\n",
    "        if line[0] == \">\":\n",
    "            parts = line.split('|')\n",
    "            f_out.write(f\"{parts[0]}|{parts[5]}\\n\")\n",
    "        else:\n",
    "            f_out.write(line)"
   ]
  },
  {
   "cell_type": "markdown",
   "metadata": {},
   "source": [
    "### Get list of human pdbs directly from PDB\n"
   ]
  },
  {
   "cell_type": "code",
   "execution_count": null,
   "metadata": {},
   "outputs": [],
   "source": [
    "human_pdb= pd.read_csv ('Data/PDBe_human_entities.csv')\n",
    "human_pdb_red = human_pdb.loc[:,['pdb_id','entity_id']]\n",
    "df_to_table(human_pdb_red, 'temp_dcoop.human_pdb')"
   ]
  },
  {
   "cell_type": "code",
   "execution_count": 4,
   "metadata": {},
   "outputs": [
    {
     "data": {
      "text/plain": [
       "61321"
      ]
     },
     "execution_count": 4,
     "metadata": {},
     "output_type": "execute_result"
    }
   ],
   "source": [
    "sql = \"\"\"select ep.pdbid, ep.pdbx_strand_id as chains\n",
    "            , ep.pdbx_seq_one_letter_code_can  as seq\n",
    "        from temp_dcoop.human_pdb hp\n",
    "        join pdbj.entity_poly ep on ep.pdbid = hp.pdb_id\n",
    "            and hp.entity_id = cast(ep.entity_id as INT)\n",
    "        where ep.type='polypeptide(L)'\n",
    "        order by pdbid, pdbx_strand_id\"\"\"\n",
    "df = pd.read_sql (sql,eng)\n",
    "df\n",
    "len (df['pdbid'].unique())"
   ]
  },
  {
   "cell_type": "markdown",
   "metadata": {},
   "source": [
    "## Write out as pdb_human_seqs.fa"
   ]
  },
  {
   "cell_type": "code",
   "execution_count": null,
   "metadata": {},
   "outputs": [],
   "source": [
    "with open ('Data/pdb_human_seqs-230227.fa', 'w') as f:\n",
    "    for i,parts in df.iterrows():\n",
    "        chains = chains.replace(',','_')\n",
    "        f.write(f\">{parts['pdbid']}_{parts['chains']}\\n{parts['seq']}\\n\")"
   ]
  },
  {
   "cell_type": "markdown",
   "metadata": {},
   "source": [
    "## eliminate seqs < 30 AA and group by 100% identity\n",
    "\n",
    "Group by reduces the list from ~97K to ~39K  \n",
    "Removing chains less than 30AA removes 3167 \n"
   ]
  },
  {
   "cell_type": "code",
   "execution_count": 5,
   "metadata": {},
   "outputs": [
    {
     "name": "stdout",
     "output_type": "stream",
     "text": [
      "df(96902) - df2(91217) = 5685 removed by 30 AA cutoff\n"
     ]
    },
    {
     "data": {
      "text/html": [
       "<div>\n",
       "<style scoped>\n",
       "    .dataframe tbody tr th:only-of-type {\n",
       "        vertical-align: middle;\n",
       "    }\n",
       "\n",
       "    .dataframe tbody tr th {\n",
       "        vertical-align: top;\n",
       "    }\n",
       "\n",
       "    .dataframe thead th {\n",
       "        text-align: right;\n",
       "    }\n",
       "</style>\n",
       "<table border=\"1\" class=\"dataframe\">\n",
       "  <thead>\n",
       "    <tr style=\"text-align: right;\">\n",
       "      <th></th>\n",
       "      <th>id</th>\n",
       "      <th>seq</th>\n",
       "    </tr>\n",
       "  </thead>\n",
       "  <tbody>\n",
       "    <tr>\n",
       "      <th>0</th>\n",
       "      <td>10gs_A,B</td>\n",
       "      <td>PPYTVVYFPVRGRCAALRMLLADQGQSWKEEVVTVETWQEGSLKAS...</td>\n",
       "    </tr>\n",
       "    <tr>\n",
       "      <th>1</th>\n",
       "      <td>11gs_A,B</td>\n",
       "      <td>MPPYTVVYFPVRGRCAALRMLLADQGQSWKEEVVTVETWQEGSLKA...</td>\n",
       "    </tr>\n",
       "    <tr>\n",
       "      <th>2</th>\n",
       "      <td>121p_A</td>\n",
       "      <td>MTEYKLVVVGAGGVGKSALTIQLIQNHFVDEYDPTIEDSYRKQVVI...</td>\n",
       "    </tr>\n",
       "    <tr>\n",
       "      <th>3</th>\n",
       "      <td>12ca_A</td>\n",
       "      <td>MSHHWGYGKHNGPEHWHKDFPIAKGERQSPVDIDTHTAKYDPSLKP...</td>\n",
       "    </tr>\n",
       "    <tr>\n",
       "      <th>4</th>\n",
       "      <td>12gs_A,B</td>\n",
       "      <td>MPPYTVVYFPVRGRCAALRMLLADQGQSWKEEVVTVETWQEGSLKA...</td>\n",
       "    </tr>\n",
       "  </tbody>\n",
       "</table>\n",
       "</div>"
      ],
      "text/plain": [
       "         id                                                seq\n",
       "0  10gs_A,B  PPYTVVYFPVRGRCAALRMLLADQGQSWKEEVVTVETWQEGSLKAS...\n",
       "1  11gs_A,B  MPPYTVVYFPVRGRCAALRMLLADQGQSWKEEVVTVETWQEGSLKA...\n",
       "2    121p_A  MTEYKLVVVGAGGVGKSALTIQLIQNHFVDEYDPTIEDSYRKQVVI...\n",
       "3    12ca_A  MSHHWGYGKHNGPEHWHKDFPIAKGERQSPVDIDTHTAKYDPSLKP...\n",
       "4  12gs_A,B  MPPYTVVYFPVRGRCAALRMLLADQGQSWKEEVVTVETWQEGSLKA..."
      ]
     },
     "execution_count": 5,
     "metadata": {},
     "output_type": "execute_result"
    }
   ],
   "source": [
    "df2=df.copy()\n",
    "df2['id']=df2['pdbid']+'_'+ df2['chains']\n",
    "df2=df2.loc[:,['id','seq']]\n",
    "df2 = df2.loc[ df2['seq'].str.len() >= 30 ]\n",
    "print (f'df({len(df)}) - df2({len(df2)}) = {len(df) -  len(df2)} removed by 30 AA cutoff') \n",
    "df2.head()"
   ]
  },
  {
   "cell_type": "code",
   "execution_count": 6,
   "metadata": {},
   "outputs": [
    {
     "name": "stdout",
     "output_type": "stream",
     "text": [
      "df2(91217) - df2_g(36104) = 55113 less seqs after clustering at 100%\n"
     ]
    },
    {
     "data": {
      "text/html": [
       "<div>\n",
       "<style scoped>\n",
       "    .dataframe tbody tr th:only-of-type {\n",
       "        vertical-align: middle;\n",
       "    }\n",
       "\n",
       "    .dataframe tbody tr th {\n",
       "        vertical-align: top;\n",
       "    }\n",
       "\n",
       "    .dataframe thead th {\n",
       "        text-align: right;\n",
       "    }\n",
       "</style>\n",
       "<table border=\"1\" class=\"dataframe\">\n",
       "  <thead>\n",
       "    <tr style=\"text-align: right;\">\n",
       "      <th></th>\n",
       "      <th>seq</th>\n",
       "      <th>chains</th>\n",
       "    </tr>\n",
       "  </thead>\n",
       "  <tbody>\n",
       "    <tr>\n",
       "      <th>0</th>\n",
       "      <td>AAAAAAAAAAAAAAAAAAAAAAAAAAAAAAAA</td>\n",
       "      <td>[6zm5_v]</td>\n",
       "    </tr>\n",
       "    <tr>\n",
       "      <th>1</th>\n",
       "      <td>AAAAAAAAAAAAAAAAAAAAAAAAAAAAAAAAAAAAAAA</td>\n",
       "      <td>[6g4s_k]</td>\n",
       "    </tr>\n",
       "    <tr>\n",
       "      <th>2</th>\n",
       "      <td>AAAAAAAAAAAAAAAAAAAAAAAAAAAAAAAAAAAAAAAAAAAAAA...</td>\n",
       "      <td>[6zp4_X, 6zvj_Y, 7a09_X]</td>\n",
       "    </tr>\n",
       "    <tr>\n",
       "      <th>3</th>\n",
       "      <td>AAAAAAAAAAAAAMKTIIALSYIFCLVFADYKDDDDKEKGISVPDH...</td>\n",
       "      <td>[7evw_R]</td>\n",
       "    </tr>\n",
       "    <tr>\n",
       "      <th>4</th>\n",
       "      <td>AAAAAAMIVQRVVLNSRPGKNGNPVAENFRMEEVYLPDNINEGQVQ...</td>\n",
       "      <td>[2zb4_A, 2zb7_A, 2zb8_A]</td>\n",
       "    </tr>\n",
       "  </tbody>\n",
       "</table>\n",
       "</div>"
      ],
      "text/plain": [
       "                                                 seq                    chains\n",
       "0                   AAAAAAAAAAAAAAAAAAAAAAAAAAAAAAAA                  [6zm5_v]\n",
       "1            AAAAAAAAAAAAAAAAAAAAAAAAAAAAAAAAAAAAAAA                  [6g4s_k]\n",
       "2  AAAAAAAAAAAAAAAAAAAAAAAAAAAAAAAAAAAAAAAAAAAAAA...  [6zp4_X, 6zvj_Y, 7a09_X]\n",
       "3  AAAAAAAAAAAAAMKTIIALSYIFCLVFADYKDDDDKEKGISVPDH...                  [7evw_R]\n",
       "4  AAAAAAMIVQRVVLNSRPGKNGNPVAENFRMEEVYLPDNINEGQVQ...  [2zb4_A, 2zb7_A, 2zb8_A]"
      ]
     },
     "execution_count": 6,
     "metadata": {},
     "output_type": "execute_result"
    }
   ],
   "source": [
    "groups = df2.groupby('seq')['id'].apply(list)\n",
    "df2_g = groups.reset_index(name='chains')\n",
    "print (f'df2({len(df2)}) - df2_g({len(df2_g)}) = {len(df2) -  len(df2_g)} less seqs after clustering at 100%') \n",
    "df2_g.head()"
   ]
  },
  {
   "cell_type": "markdown",
   "metadata": {},
   "source": [
    "### get representative chain as for name and write out .fa"
   ]
  },
  {
   "cell_type": "code",
   "execution_count": null,
   "metadata": {},
   "outputs": [],
   "source": [
    "df2_g['rep'] = [i[0] for i in df2_g['chains']]\n",
    "with open ('Data/pdb_unique_human_seqs_230301.fa', 'w') as f:\n",
    "    for i,parts in df2_g.iterrows():\n",
    "        f.write(f\">{parts['rep']}\\n{parts['seq']}\\n\")"
   ]
  },
  {
   "cell_type": "markdown",
   "metadata": {},
   "source": [
    "# Blast part\n",
    "blastp -db ./a_gencode_fasta_same_prot_clustered.v35.fa -query ./uniprot_reviewed_canonical_and_isoform.fasta  \n",
    "      -outfmt \"6 qseqid qlen qstart qend sseqid slen sstart send evalue bitscore length nident gaps\"   \n",
    "      -out run_UN_to_GC_blast_result.tsv -num_threads 24 >> run_UN_to_GC_blast_result_stdout.txt 2>&1\n",
    "makeblastdb -in <fasta file> -out <database name> -dbtype <type> -title <title> -parse_seqids\n",
    "    \n",
    "__[TEXT](https://www.ncbi.nlm.nih.gov/books/NBK279684/table/appendices.T.options_common_to_all_blast/)__"
   ]
  },
  {
   "cell_type": "code",
   "execution_count": 99,
   "metadata": {},
   "outputs": [
    {
     "name": "stdout",
     "output_type": "stream",
     "text": [
      "/home/daroc/ncbi-blast-2.13.0+/bin/makeblastdb -in some_pdbs.fa -out some_pdbs -dbtype prot -title \"Blastdb for some_pdbs.fa\" -parse_seqids \n"
     ]
    }
   ],
   "source": [
    "blast_path = \"/home/daroc/ncbi-blast-2.13.0+/bin\"\n",
    "blastp_ = os.path.join (blast_path, 'blastp')\n",
    "makedb = os.path.join (blast_path, 'makeblastdb')\n",
    "s='gencode_v43_translations_mod.fa'\n",
    "#q='one_pdb.fa'\n",
    "q='some_pdbs.fa'\n",
    "blast_options=\"-evalue 1e-20 -max_hsps 2\"\n",
    "columns =  ['qseqid','qlen', 'qstart', 'qend', 'sseqid', 'slen', 'sstart', 'send', 'evalue', 'bitscore', 'length', 'nident', 'gaps','gapopen', 'mismatch']\n",
    "\n",
    "\n",
    "#  Should not need to edit below here \n",
    "makeblastdb(q)\n",
    "s_root = s.replace('.fa','')\n",
    "column_str = \" \".join(columns)\n",
    "outfmt = f\"6 {column_str}\"\n"
   ]
  },
  {
   "cell_type": "code",
   "execution_count": 100,
   "metadata": {
    "scrolled": true
   },
   "outputs": [
    {
     "name": "stdout",
     "output_type": "stream",
     "text": [
      "/home/daroc/ncbi-blast-2.13.0+/bin/blastp -query \"Data/some_pdbs.fa\" -subject \"Data/gencode_v43_translations_mod.fa\" -evalue 1e-20 -max_hsps 2 -outfmt \"6 qseqid qlen qstart qend sseqid slen sstart send evalue bitscore length nident gaps gapopen mismatch\"\n",
      "\n"
     ]
    },
    {
     "data": {
      "text/html": [
       "<div>\n",
       "<style scoped>\n",
       "    .dataframe tbody tr th:only-of-type {\n",
       "        vertical-align: middle;\n",
       "    }\n",
       "\n",
       "    .dataframe tbody tr th {\n",
       "        vertical-align: top;\n",
       "    }\n",
       "\n",
       "    .dataframe thead th {\n",
       "        text-align: right;\n",
       "    }\n",
       "</style>\n",
       "<table border=\"1\" class=\"dataframe\">\n",
       "  <thead>\n",
       "    <tr style=\"text-align: right;\">\n",
       "      <th></th>\n",
       "      <th>qseqid</th>\n",
       "      <th>qlen</th>\n",
       "      <th>qstart</th>\n",
       "      <th>qend</th>\n",
       "      <th>sseqid</th>\n",
       "      <th>slen</th>\n",
       "      <th>sstart</th>\n",
       "      <th>send</th>\n",
       "      <th>evalue</th>\n",
       "      <th>bitscore</th>\n",
       "      <th>length</th>\n",
       "      <th>nident</th>\n",
       "      <th>gaps</th>\n",
       "      <th>gapopen</th>\n",
       "      <th>mismatch</th>\n",
       "    </tr>\n",
       "  </thead>\n",
       "  <tbody>\n",
       "    <tr>\n",
       "      <th>0</th>\n",
       "      <td>7evw_R</td>\n",
       "      <td>599</td>\n",
       "      <td>38</td>\n",
       "      <td>574</td>\n",
       "      <td>ENSP00000286201.1|FZD7-201</td>\n",
       "      <td>574</td>\n",
       "      <td>38</td>\n",
       "      <td>574</td>\n",
       "      <td>0.0</td>\n",
       "      <td>1115</td>\n",
       "      <td>537</td>\n",
       "      <td>537</td>\n",
       "      <td>0</td>\n",
       "      <td>0</td>\n",
       "      <td>0</td>\n",
       "    </tr>\n",
       "    <tr>\n",
       "      <th>1</th>\n",
       "      <td>7evw_R</td>\n",
       "      <td>599</td>\n",
       "      <td>36</td>\n",
       "      <td>574</td>\n",
       "      <td>ENSP00000287934.2|FZD1-201</td>\n",
       "      <td>647</td>\n",
       "      <td>103</td>\n",
       "      <td>647</td>\n",
       "      <td>0.0</td>\n",
       "      <td>905</td>\n",
       "      <td>551</td>\n",
       "      <td>440</td>\n",
       "      <td>18</td>\n",
       "      <td>6</td>\n",
       "      <td>93</td>\n",
       "    </tr>\n",
       "    <tr>\n",
       "      <th>2</th>\n",
       "      <td>7evw_R</td>\n",
       "      <td>599</td>\n",
       "      <td>38</td>\n",
       "      <td>574</td>\n",
       "      <td>ENSP00000323901.3|FZD2-201</td>\n",
       "      <td>565</td>\n",
       "      <td>28</td>\n",
       "      <td>565</td>\n",
       "      <td>0.0</td>\n",
       "      <td>893</td>\n",
       "      <td>553</td>\n",
       "      <td>434</td>\n",
       "      <td>31</td>\n",
       "      <td>3</td>\n",
       "      <td>88</td>\n",
       "    </tr>\n",
       "    <tr>\n",
       "      <th>3</th>\n",
       "      <td>7evw_R</td>\n",
       "      <td>599</td>\n",
       "      <td>49</td>\n",
       "      <td>563</td>\n",
       "      <td>ENSP00000354607.3|FZD5-201</td>\n",
       "      <td>585</td>\n",
       "      <td>33</td>\n",
       "      <td>536</td>\n",
       "      <td>2.42e-180</td>\n",
       "      <td>523</td>\n",
       "      <td>533</td>\n",
       "      <td>276</td>\n",
       "      <td>47</td>\n",
       "      <td>14</td>\n",
       "      <td>210</td>\n",
       "    </tr>\n",
       "    <tr>\n",
       "      <th>4</th>\n",
       "      <td>7evw_R</td>\n",
       "      <td>599</td>\n",
       "      <td>44</td>\n",
       "      <td>589</td>\n",
       "      <td>ENSP00000229030.4|FZD10-201</td>\n",
       "      <td>581</td>\n",
       "      <td>29</td>\n",
       "      <td>573</td>\n",
       "      <td>1.48e-165</td>\n",
       "      <td>485</td>\n",
       "      <td>562</td>\n",
       "      <td>261</td>\n",
       "      <td>33</td>\n",
       "      <td>10</td>\n",
       "      <td>268</td>\n",
       "    </tr>\n",
       "    <tr>\n",
       "      <th>...</th>\n",
       "      <td>...</td>\n",
       "      <td>...</td>\n",
       "      <td>...</td>\n",
       "      <td>...</td>\n",
       "      <td>...</td>\n",
       "      <td>...</td>\n",
       "      <td>...</td>\n",
       "      <td>...</td>\n",
       "      <td>...</td>\n",
       "      <td>...</td>\n",
       "      <td>...</td>\n",
       "      <td>...</td>\n",
       "      <td>...</td>\n",
       "      <td>...</td>\n",
       "      <td>...</td>\n",
       "    </tr>\n",
       "    <tr>\n",
       "      <th>2989</th>\n",
       "      <td>1iat_A</td>\n",
       "      <td>557</td>\n",
       "      <td>1</td>\n",
       "      <td>106</td>\n",
       "      <td>ENSP00000466191.1|GPI-217</td>\n",
       "      <td>146</td>\n",
       "      <td>41</td>\n",
       "      <td>146</td>\n",
       "      <td>6.42e-70</td>\n",
       "      <td>222</td>\n",
       "      <td>106</td>\n",
       "      <td>106</td>\n",
       "      <td>0</td>\n",
       "      <td>0</td>\n",
       "      <td>0</td>\n",
       "    </tr>\n",
       "    <tr>\n",
       "      <th>2990</th>\n",
       "      <td>1iat_A</td>\n",
       "      <td>557</td>\n",
       "      <td>1</td>\n",
       "      <td>105</td>\n",
       "      <td>ENSP00000496041.1|GPI-218</td>\n",
       "      <td>145</td>\n",
       "      <td>41</td>\n",
       "      <td>145</td>\n",
       "      <td>3.28e-69</td>\n",
       "      <td>220</td>\n",
       "      <td>105</td>\n",
       "      <td>105</td>\n",
       "      <td>0</td>\n",
       "      <td>0</td>\n",
       "      <td>0</td>\n",
       "    </tr>\n",
       "    <tr>\n",
       "      <th>2991</th>\n",
       "      <td>1iat_A</td>\n",
       "      <td>557</td>\n",
       "      <td>1</td>\n",
       "      <td>99</td>\n",
       "      <td>ENSP00000468298.2|GPI-206</td>\n",
       "      <td>139</td>\n",
       "      <td>41</td>\n",
       "      <td>139</td>\n",
       "      <td>5.19e-65</td>\n",
       "      <td>209</td>\n",
       "      <td>99</td>\n",
       "      <td>99</td>\n",
       "      <td>0</td>\n",
       "      <td>0</td>\n",
       "      <td>0</td>\n",
       "    </tr>\n",
       "    <tr>\n",
       "      <th>2992</th>\n",
       "      <td>1iat_A</td>\n",
       "      <td>557</td>\n",
       "      <td>1</td>\n",
       "      <td>76</td>\n",
       "      <td>ENSP00000464797.2|GPI-207</td>\n",
       "      <td>116</td>\n",
       "      <td>41</td>\n",
       "      <td>116</td>\n",
       "      <td>3.21e-47</td>\n",
       "      <td>162</td>\n",
       "      <td>76</td>\n",
       "      <td>76</td>\n",
       "      <td>0</td>\n",
       "      <td>0</td>\n",
       "      <td>0</td>\n",
       "    </tr>\n",
       "    <tr>\n",
       "      <th>2993</th>\n",
       "      <td>1iat_A</td>\n",
       "      <td>557</td>\n",
       "      <td>359</td>\n",
       "      <td>437</td>\n",
       "      <td>ENSP00000468690.1|ENST00000592740</td>\n",
       "      <td>209</td>\n",
       "      <td>2</td>\n",
       "      <td>80</td>\n",
       "      <td>2.39e-40</td>\n",
       "      <td>146</td>\n",
       "      <td>79</td>\n",
       "      <td>67</td>\n",
       "      <td>0</td>\n",
       "      <td>0</td>\n",
       "      <td>12</td>\n",
       "    </tr>\n",
       "  </tbody>\n",
       "</table>\n",
       "<p>2994 rows × 15 columns</p>\n",
       "</div>"
      ],
      "text/plain": [
       "      qseqid qlen qstart qend                             sseqid slen sstart  \\\n",
       "0     7evw_R  599     38  574         ENSP00000286201.1|FZD7-201  574     38   \n",
       "1     7evw_R  599     36  574         ENSP00000287934.2|FZD1-201  647    103   \n",
       "2     7evw_R  599     38  574         ENSP00000323901.3|FZD2-201  565     28   \n",
       "3     7evw_R  599     49  563         ENSP00000354607.3|FZD5-201  585     33   \n",
       "4     7evw_R  599     44  589        ENSP00000229030.4|FZD10-201  581     29   \n",
       "...      ...  ...    ...  ...                                ...  ...    ...   \n",
       "2989  1iat_A  557      1  106          ENSP00000466191.1|GPI-217  146     41   \n",
       "2990  1iat_A  557      1  105          ENSP00000496041.1|GPI-218  145     41   \n",
       "2991  1iat_A  557      1   99          ENSP00000468298.2|GPI-206  139     41   \n",
       "2992  1iat_A  557      1   76          ENSP00000464797.2|GPI-207  116     41   \n",
       "2993  1iat_A  557    359  437  ENSP00000468690.1|ENST00000592740  209      2   \n",
       "\n",
       "     send     evalue bitscore length nident gaps gapopen mismatch  \n",
       "0     574        0.0     1115    537    537    0       0        0  \n",
       "1     647        0.0      905    551    440   18       6       93  \n",
       "2     565        0.0      893    553    434   31       3       88  \n",
       "3     536  2.42e-180      523    533    276   47      14      210  \n",
       "4     573  1.48e-165      485    562    261   33      10      268  \n",
       "...   ...        ...      ...    ...    ...  ...     ...      ...  \n",
       "2989  146   6.42e-70      222    106    106    0       0        0  \n",
       "2990  145   3.28e-69      220    105    105    0       0        0  \n",
       "2991  139   5.19e-65      209     99     99    0       0        0  \n",
       "2992  116   3.21e-47      162     76     76    0       0        0  \n",
       "2993   80   2.39e-40      146     79     67    0       0       12  \n",
       "\n",
       "[2994 rows x 15 columns]"
      ]
     },
     "execution_count": 100,
     "metadata": {},
     "output_type": "execute_result"
    }
   ],
   "source": [
    "# DF output \n",
    "blast_cmd = f'{blastp} -query \"Data/{q}\" -subject \"Data/{s}\" {blast_options} -outfmt \"{outfmt}\"'\n",
    "print (f\"{blast_cmd}\\n\")\n",
    "blast_results=subprocess.getoutput(blast_cmd)\n",
    "results_list = [line.split('\\t') for line in blast_results.splitlines()]\n",
    "blast_df = pd.DataFrame(results_list, columns = columns)\n",
    "try:\n",
    "    blast_df.to_excel('Data/some_all.xlsx')\n",
    "except:\n",
    "    print (\"\\n\\nCouldn't write Excel file!!!\")\n",
    "blast_df\n"
   ]
  },
  {
   "cell_type": "code",
   "execution_count": 101,
   "metadata": {},
   "outputs": [
    {
     "name": "stdout",
     "output_type": "stream",
     "text": [
      "/home/daroc/ncbi-blast-2.13.0+/bin/blastp -query \"Data/some_pdbs.fa\" -subject \"Data/gencode_v43_translations_mod.fa\"  -evalue 1e-20 -max_hsps 2\n",
      "\n"
     ]
    },
    {
     "name": "stderr",
     "output_type": "stream",
     "text": [
      "IOPub data rate exceeded.\n",
      "The notebook server will temporarily stop sending output\n",
      "to the client in order to avoid crashing it.\n",
      "To change this limit, set the config variable\n",
      "`--NotebookApp.iopub_data_rate_limit`.\n",
      "\n",
      "Current values:\n",
      "NotebookApp.iopub_data_rate_limit=1000000.0 (bytes/sec)\n",
      "NotebookApp.rate_limit_window=3.0 (secs)\n",
      "\n"
     ]
    }
   ],
   "source": [
    "# For full results\n",
    "blast_cmd = f'{blastp} -query \"Data/{q}\" -subject \"Data/{s}\"  {blast_options}'\n",
    "print (f\"{blast_cmd}\\n\")\n",
    "blast_results=subprocess.getoutput(blast_cmd)\n",
    "print (blast_results)"
   ]
  },
  {
   "cell_type": "code",
   "execution_count": 47,
   "metadata": {},
   "outputs": [
    {
     "name": "stdout",
     "output_type": "stream",
     "text": [
      "0\n",
      "1\n",
      "2\n",
      "3\n",
      "4\n",
      "5\n",
      "6\n",
      "7\n",
      "8\n",
      "9\n",
      "10\n"
     ]
    }
   ],
   "source": [
    "\n",
    "def classify_matches(df):\n",
    "    insertion= 0\n",
    "    deletion= 0\n",
    "    mutation=0\n",
    "    for i,row in df.iterrows():\n",
    "        #slens equal\n",
    "        if r['mismatch'] >= 1:\n",
    "            mutation=1\n",
    "        \n",
    "        \n",
    "classify_matches(blast_df)"
   ]
  }
 ],
 "metadata": {
  "hide_input": false,
  "kernelspec": {
   "display_name": "Python 3 (ipykernel)",
   "language": "python",
   "name": "python3"
  },
  "language_info": {
   "codemirror_mode": {
    "name": "ipython",
    "version": 3
   },
   "file_extension": ".py",
   "mimetype": "text/x-python",
   "name": "python",
   "nbconvert_exporter": "python",
   "pygments_lexer": "ipython3",
   "version": "3.10.6"
  }
 },
 "nbformat": 4,
 "nbformat_minor": 4
}
